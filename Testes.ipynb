{
 "cells": [
  {
   "cell_type": "code",
   "execution_count": 4,
   "id": "a1bc7fca-17f9-4597-a38f-b67b8adf47af",
   "metadata": {},
   "outputs": [
    {
     "name": "stdout",
     "output_type": "stream",
     "text": [
      "* Running on local URL:  http://127.0.0.1:7861\n",
      "\n",
      "Could not create share link. Please check your internet connection or our status page: https://status.gradio.app.\n"
     ]
    },
    {
     "data": {
      "text/html": [
       "<div><iframe src=\"http://127.0.0.1:7861/\" width=\"100%\" height=\"500\" allow=\"autoplay; camera; microphone; clipboard-read; clipboard-write;\" frameborder=\"0\" allowfullscreen></iframe></div>"
      ],
      "text/plain": [
       "<IPython.core.display.HTML object>"
      ]
     },
     "metadata": {},
     "output_type": "display_data"
    },
    {
     "data": {
      "text/plain": []
     },
     "execution_count": 4,
     "metadata": {},
     "output_type": "execute_result"
    }
   ],
   "source": [
    "import gradio as gr\n",
    "from PIL import Image\n",
    "import tensorflow as tf\n",
    "import numpy as np\n",
    "\n",
    "# Função de previsão\n",
    "def predict(image):\n",
    "    # Carregar o modelo\n",
    "    modelo = tf.keras.models.load_model('ModeloXception3.h5')\n",
    "    \n",
    "    # Redimensionar e preprocessar a imagem\n",
    "    image = image.resize((224, 224))  # Redimensiona a imagem\n",
    "    image = np.array(image) / 255.0  # Normaliza os valores para [0, 1]\n",
    "    image = np.expand_dims(image, axis=0)  # Adiciona uma dimensão para batch\n",
    "\n",
    "    # Fazer a previsão\n",
    "    previsao = modelo.predict(image)\n",
    "    \n",
    "    # Interpretar o resultado\n",
    "    if np.argmax(previsao) == 6:\n",
    "        return \"Predição do modelo: Não Caranguejo\"\n",
    "    return \"Predição do modelo: Caranguejo 🦀\"\n",
    "\n",
    "# Interface com Gradio\n",
    "interface = gr.Interface(\n",
    "    fn=predict,\n",
    "    inputs=gr.Image(type=\"pil\"),  # Entrada de imagem\n",
    "    outputs=\"text\",               # Saída de texto\n",
    "    title=\"Modelo de IA - Previsão de Imagem\",\n",
    ")\n",
    "\n",
    "# Iniciar o Gradio (com link para compartilhar)\n",
    "interface.launch(share=True)"
   ]
  },
  {
   "cell_type": "code",
   "execution_count": null,
   "id": "4064e866-cd0f-4474-90fa-9931fb4d6f48",
   "metadata": {},
   "outputs": [],
   "source": []
  }
 ],
 "metadata": {
  "kernelspec": {
   "display_name": "Python (3.10)",
   "language": "python",
   "name": "py10"
  },
  "language_info": {
   "codemirror_mode": {
    "name": "ipython",
    "version": 3
   },
   "file_extension": ".py",
   "mimetype": "text/x-python",
   "name": "python",
   "nbconvert_exporter": "python",
   "pygments_lexer": "ipython3",
   "version": "3.10.14"
  }
 },
 "nbformat": 4,
 "nbformat_minor": 5
}
