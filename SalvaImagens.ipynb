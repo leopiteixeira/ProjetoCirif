{
 "cells": [
  {
   "cell_type": "code",
   "execution_count": 7,
   "id": "e2404f27-6cd9-43cd-b220-0821defc181a",
   "metadata": {},
   "outputs": [],
   "source": [
    "from numba import jit, cuda\n",
    "import pandas as pd\n",
    "import urllib.request\n",
    "import os\n",
    "from PIL import Image\n",
    "import numpy\n",
    "import tensorflow as tf\n",
    "import concurrent.futures"
   ]
  },
  {
   "cell_type": "code",
   "execution_count": 2,
   "id": "f4735548-bd03-46da-9a9f-05e0fbc790ed",
   "metadata": {},
   "outputs": [
    {
     "data": {
      "text/plain": [
       "[PhysicalDevice(name='/physical_device:GPU:0', device_type='GPU')]"
      ]
     },
     "execution_count": 2,
     "metadata": {},
     "output_type": "execute_result"
    }
   ],
   "source": [
    "tf.config.list_physical_devices('GPU')"
   ]
  },
  {
   "cell_type": "code",
   "execution_count": 3,
   "id": "acdcf795-8e58-473f-be1c-8b2dd2e8b3e8",
   "metadata": {},
   "outputs": [],
   "source": [
    "qtd_train = 4100\n",
    "qtd_total = 5000\n",
    "path_data = \"Planilhas/NaoCaranguejo.csv\"\n",
    "especie = \"NaoCaranguejo\""
   ]
  },
  {
   "cell_type": "code",
   "execution_count": 4,
   "id": "fe9c01da-f506-45fd-9f86-aed3ea2aa77f",
   "metadata": {},
   "outputs": [],
   "source": [
    "def download_and_process_image(url, path, size=(224, 224)):\n",
    "    try:\n",
    "        # Download da imagem\n",
    "        urllib.request.urlretrieve(url, path)\n",
    "        # Processamento da imagem\n",
    "        image = Image.open(path).convert('RGB')\n",
    "        image = image.resize(size)\n",
    "        image.save(path, 'JPEG')\n",
    "        return True\n",
    "    except Exception as e:\n",
    "        print(f\"Erro ao processar {url}: {e}\")\n",
    "        return False\n",
    "\n",
    "def salvaImagens(path_data, especie):\n",
    "    data = pd.read_csv(path_data)\n",
    "    data.dropna(inplace=True)\n",
    "    train = data[:qtd_train]\n",
    "    test = data[qtd_train:qtd_total]\n",
    "\n",
    "    os.makedirs(f'./train2/{especie}', exist_ok=True)\n",
    "    os.makedirs(f'./test2/{especie}', exist_ok=True)\n",
    "    \n",
    "    def process_images(dataset, folder):\n",
    "        futures = []\n",
    "        with concurrent.futures.ThreadPoolExecutor(max_workers=10) as executor:\n",
    "            for i, url in enumerate(dataset['image_url']):\n",
    "                path = f'{folder}/{especie}/imagem_{i}.jpg'\n",
    "                futures.append(executor.submit(download_and_process_image, url, path))\n",
    "            \n",
    "            for future in concurrent.futures.as_completed(futures):\n",
    "                if not future.result():\n",
    "                    print(\"Um download ou processamento falhou.\")\n",
    "    \n",
    "    process_images(train, './train2')\n",
    "    process_images(test, './test2')"
   ]
  },
  {
   "cell_type": "code",
   "execution_count": 9,
   "id": "20b19f5e-d1d7-43e1-abd5-3eb70cd0582a",
   "metadata": {},
   "outputs": [
    {
     "name": "stdout",
     "output_type": "stream",
     "text": [
      "Erro ao processar https://inaturalist-open-data.s3.amazonaws.com/photos/462707062/medium.jpg: <urlopen error [WinError 10054] Foi forçado o cancelamento de uma conexão existente pelo host remoto>\n",
      "Um download ou processamento falhou.\n"
     ]
    }
   ],
   "source": [
    "salvaImagens(path_data, especie)"
   ]
  },
  {
   "cell_type": "code",
   "execution_count": 8,
   "id": "2c2fe853-dce6-4207-9ca9-d9dda292d9de",
   "metadata": {},
   "outputs": [],
   "source": [
    "caranguejos = ['Aratus', \n",
    "               'Callinectes', \n",
    "               'Cardisoma', \n",
    "               'Goniopsis', \n",
    "               'Leptuca', \n",
    "               'Minuca', \n",
    "               'Neohelice', \n",
    "               'Neosarmatium', \n",
    "               'Ocypode', \n",
    "               'Pachygrapsus', \n",
    "               'Scylla', \n",
    "               'Ucides']"
   ]
  },
  {
   "cell_type": "code",
   "execution_count": 9,
   "id": "f6651272-c447-49fd-840b-58d4c62429e5",
   "metadata": {},
   "outputs": [],
   "source": [
    "caminho_principal = \"./test\"\n",
    "\n",
    "for nome_caranguejo in caranguejos:\n",
    "    caminho_pasta = caminho_principal + f'/{nome_caranguejo}'\n",
    "    \n",
    "    # Verifica se a pasta existe\n",
    "    if os.path.isdir(caminho_pasta):\n",
    "        # Percorre todos os arquivos da pasta\n",
    "        for arquivo in os.listdir(caminho_pasta):\n",
    "            # Verifica se o arquivo corresponde ao padrão \"imagem_x\"\n",
    "            if arquivo.startswith(\"imagem_\") and arquivo.endswith(\".jpg\"):  # ajuste a extensão se necessário\n",
    "                # Extrai o número da imagem\n",
    "                numero = arquivo.split(\"_\")[-1]\n",
    "                \n",
    "                # Define o novo nome do arquivo\n",
    "                novo_nome = f\"{nome_caranguejo}_{numero}\"\n",
    "                \n",
    "                # Caminhos completos para renomear\n",
    "                caminho_antigo = os.path.join(caminho_pasta, arquivo)\n",
    "                caminho_novo = os.path.join(caminho_pasta, novo_nome)\n",
    "                \n",
    "                # Renomeia o arquivo\n",
    "                os.rename(caminho_antigo, caminho_novo)\n",
    "    else:\n",
    "        print(f\"Pasta não encontrada: {caminho_pasta}\")"
   ]
  },
  {
   "cell_type": "code",
   "execution_count": null,
   "id": "81c51541-e4fb-4629-92c5-110be269f849",
   "metadata": {},
   "outputs": [],
   "source": []
  }
 ],
 "metadata": {
  "kernelspec": {
   "display_name": "Python (3.10)",
   "language": "python",
   "name": "py10"
  },
  "language_info": {
   "codemirror_mode": {
    "name": "ipython",
    "version": 3
   },
   "file_extension": ".py",
   "mimetype": "text/x-python",
   "name": "python",
   "nbconvert_exporter": "python",
   "pygments_lexer": "ipython3",
   "version": "3.10.14"
  }
 },
 "nbformat": 4,
 "nbformat_minor": 5
}
